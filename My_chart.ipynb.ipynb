{
 "cells": [
  {
   "cell_type": "code",
   "execution_count": null,
   "metadata": {},
   "outputs": [],
   "source": [
    "import matplotlib.pyplot as plt\n",
    "%matplotlib inline\n",
    "x = ['Python', 'SQL', 'Power BI', 'R']\n",
    "y = [2, 1, 4, 1]\n",
    "\n",
    "plt.bar(x, y, color='green')\n",
    "\n",
    "plt.ylabel(\"Skill\",fontweight='bold')\n",
    "plt.title(\"Hard Skills\")\n",
    "\n",
    "plt.xticks(fontweight='bold')\n",
    "plt.yticks([1,2,3,4,5])\n",
    "\n",
    "plt.show()"
   ]
  }
 ],
 "metadata": {
  "kernelspec": {
   "display_name": "Python 3",
   "language": "python",
   "name": "python3"
  },
  "language_info": {
   "codemirror_mode": {
    "name": "ipython",
    "version": 3
   },
   "file_extension": ".py",
   "mimetype": "text/x-python",
   "name": "python",
   "nbconvert_exporter": "python",
   "pygments_lexer": "ipython3",
   "version": "3.8.5"
  }
 },
 "nbformat": 4,
 "nbformat_minor": 4
}
